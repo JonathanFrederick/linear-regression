{
 "cells": [
  {
   "cell_type": "code",
   "execution_count": 1,
   "metadata": {
    "collapsed": true
   },
   "outputs": [],
   "source": [
    "import pandas as pd\n",
    "import matplotlib.pyplot as plt\n",
    "import numpy as np\n",
    "from sklearn import linear_model\n",
    "import itertools\n",
    "%matplotlib inline"
   ]
  },
  {
   "cell_type": "markdown",
   "metadata": {},
   "source": [
    "## Ground Cricket Chirps\n",
    "\n",
    "In _The Song of Insects_ (1948) by George W. Pierce, Pierce mechanically measured the frequency (the number of wing vibrations per second) of chirps (or pulses of sound) made by a striped ground cricket, at various ground temperatures.  Since crickets are ectotherms (cold-blooded), the rate of their physiological processes and their overall metabolism are influenced by temperature.  Consequently, there is reason to believe that temperature would have a profound effect on aspects of their behavior, such as chirp frequency.\n",
    "\n",
    "In general, it was found that crickets did not sing at temperatures colder than 60&deg; F or warmer than 100&deg; F."
   ]
  },
  {
   "cell_type": "code",
   "execution_count": 2,
   "metadata": {
    "collapsed": false
   },
   "outputs": [],
   "source": [
    "ground_cricket_data = {\"Chirps/Second\": [20.0, 16.0, 19.8, 18.4, 17.1, 15.5, 14.7,\n",
    "                                         15.7, 15.4, 16.3, 15.0, 17.2, 16.0, 17.0,\n",
    "                                         14.4],\n",
    "                       \"Ground Temperature\": [88.6, 71.6, 93.3, 84.3, 80.6, 75.2, 69.7,\n",
    "                                              71.6, 69.4, 83.3, 79.6, 82.6, 80.6, 83.5,\n",
    "                                              76.3]}\n",
    "df = pd.DataFrame(ground_cricket_data)"
   ]
  },
  {
   "cell_type": "markdown",
   "metadata": {},
   "source": [
    "##### Find the linear regression equation for this data."
   ]
  },
  {
   "cell_type": "code",
   "execution_count": 3,
   "metadata": {
    "collapsed": false
   },
   "outputs": [
    {
     "name": "stdout",
     "output_type": "stream",
     "text": [
      "[[ 3.410323]] [ 22.84898231]\n"
     ]
    }
   ],
   "source": [
    "in1 = np.array(df[['Chirps/Second']])\n",
    "out1 = np.array(df[['Ground Temperature']])\n",
    "regr1 = linear_model.LinearRegression()\n",
    "regr1.fit(in1, out1)\n",
    "print(regr1.coef_, regr1.intercept_)"
   ]
  },
  {
   "cell_type": "markdown",
   "metadata": {},
   "source": [
    "##### Chart the original data and the equation on the chart."
   ]
  },
  {
   "cell_type": "code",
   "execution_count": 4,
   "metadata": {
    "collapsed": false
   },
   "outputs": [
    {
     "data": {
      "image/png": "[encoded data removed]",
      "text/plain": [
       "<matplotlib.figure.Figure at 0x10dd12668>"
      ]
     },
     "metadata": {},
     "output_type": "display_data"
    }
   ],
   "source": [
    "plt.scatter(in1, out1)\n",
    "plt.plot(in1, regr1.predict(in1))\n",
    "plt.xlabel('Chirps/Second')\n",
    "plt.ylabel('Ground Temperature (\\u00B0 F)')\n",
    "plt.title('Ground Cricket Chirps')\n",
    "plt.show()"
   ]
  },
  {
   "cell_type": "markdown",
   "metadata": {},
   "source": [
    "##### Find the equation's $R^2$ score (use the `.score` method) to determine whether the equation is a good fit for this data. (0.8 and greater is considered a strong correlation.)"
   ]
  },
  {
   "cell_type": "code",
   "execution_count": 5,
   "metadata": {
    "collapsed": false
   },
   "outputs": [
    {
     "data": {
      "text/plain": [
       "0.69229465291470027"
      ]
     },
     "execution_count": 5,
     "metadata": {},
     "output_type": "execute_result"
    }
   ],
   "source": [
    "regr1.score(in1, out1)"
   ]
  },
  {
   "cell_type": "markdown",
   "metadata": {},
   "source": [
    "This linear equation is a significant correlation, but not exactly strong\n",
    "\n",
    "##### Extrapolate data:  If the ground temperature reached 95&deg; F, then at what approximate rate would you expect the crickets to be chirping?\n"
   ]
  },
  {
   "cell_type": "code",
   "execution_count": 6,
   "metadata": {
    "collapsed": false
   },
   "outputs": [
    {
     "data": {
      "text/plain": [
       "array([[ 21.15665223]])"
      ]
     },
     "execution_count": 6,
     "metadata": {},
     "output_type": "execute_result"
    }
   ],
   "source": [
    "(95 - regr1.intercept_)/regr1.coef_"
   ]
  },
  {
   "cell_type": "markdown",
   "metadata": {},
   "source": [
    "##### Interpolate data:  With a listening device, you discovered that on a particular morning the crickets were chirping at a rate of 18 chirps per second.  What was the approximate ground temperature that morning?"
   ]
  },
  {
   "cell_type": "code",
   "execution_count": 7,
   "metadata": {
    "collapsed": false
   },
   "outputs": [
    {
     "data": {
      "text/plain": [
       "array([[ 84.2347963]])"
      ]
     },
     "execution_count": 7,
     "metadata": {},
     "output_type": "execute_result"
    }
   ],
   "source": [
    "regr1.predict(18)"
   ]
  },
  {
   "cell_type": "markdown",
   "metadata": {},
   "source": [
    "## Brain vs. Body Weight\n",
    "\n",
    "In the file `brain_body.txt`, the average brain and body weight for a number of mammal species are recorded. Load this data into a Pandas data frame.\n",
    "\n"
   ]
  },
  {
   "cell_type": "code",
   "execution_count": 8,
   "metadata": {
    "collapsed": false
   },
   "outputs": [],
   "source": [
    "df = pd.read_fwf(\"brain_body.txt\")"
   ]
  },
  {
   "cell_type": "markdown",
   "metadata": {},
   "source": [
    "##### Find the linear regression equation for this data for brain weight to body weight."
   ]
  },
  {
   "cell_type": "code",
   "execution_count": 9,
   "metadata": {
    "collapsed": false
   },
   "outputs": [
    {
     "name": "stdout",
     "output_type": "stream",
     "text": [
      "[[ 0.96649637]] [ 91.00439621]\n"
     ]
    }
   ],
   "source": [
    "in2 = np.array(df[['Brain']])\n",
    "out2 = np.array(df[['Body']])\n",
    "regr2 = linear_model.LinearRegression()\n",
    "regr2.fit(in2, out2)\n",
    "print(regr2.coef_, regr2.intercept_)"
   ]
  },
  {
   "cell_type": "markdown",
   "metadata": {},
   "source": [
    "##### Chart the original data and the equation on the chart."
   ]
  },
  {
   "cell_type": "code",
   "execution_count": 10,
   "metadata": {
    "collapsed": false
   },
   "outputs": [
    {
     "data": {
      "image/png": "[encoded data removed]",
      "text/plain": [
       "<matplotlib.figure.Figure at 0x10dde1668>"
      ]
     },
     "metadata": {},
     "output_type": "display_data"
    }
   ],
   "source": [
    "plt.scatter(in2, out2)\n",
    "plt.plot(in2, regr2.predict(in2))\n",
    "plt.xlabel('Brain Size')\n",
    "plt.ylabel('Body Size')\n",
    "plt.title('Brain Size vs. Body Size')\n",
    "plt.show()"
   ]
  },
  {
   "cell_type": "markdown",
   "metadata": {},
   "source": [
    "##### Find the equation's $R^2$ score (use the `.score` method) to determine whether the equation is a good fit for this data. (0.8 and greater is considered a strong correlation.)"
   ]
  },
  {
   "cell_type": "code",
   "execution_count": 11,
   "metadata": {
    "collapsed": false
   },
   "outputs": [
    {
     "data": {
      "text/plain": [
       "0.87266208430433312"
      ]
     },
     "execution_count": 11,
     "metadata": {},
     "output_type": "execute_result"
    }
   ],
   "source": [
    "regr2.score(in2, out2)"
   ]
  },
  {
   "cell_type": "markdown",
   "metadata": {},
   "source": [
    "## Salary Discrimination\n",
    "\n",
    "The file `salary.txt` contains data for 52 tenure-track professors at a small Midwestern college. This data was used in legal proceedings in the 1980s about discrimination against women in salary.\n",
    "\n",
    "The data in the file, by column:\n",
    "\n",
    "1. Sex. 1 for female, 0 for male.\n",
    "2. Rank. 1 for assistant professor, 2 for associate professor, 3 for full professor.\n",
    "3. Year. Number of years in current rank.\n",
    "4. Degree. Highest degree. 1 for doctorate, 0 for master's.\n",
    "5. YSdeg. Years since highest degree was earned.\n",
    "6. Salary. Salary/year in dollars.\n",
    "\n",
    "### Tasks\n",
    "\n",
    "1. Find the linear regression equation for this data using columns 1-5 to column 6.\n",
    "2. Find the selection of columns with the best $R^2$ score.\n",
    "3. Report whether sex is a factor in salary. Support your argument with graph(s) if appropriate."
   ]
  },
  {
   "cell_type": "code",
   "execution_count": 12,
   "metadata": {
    "collapsed": false
   },
   "outputs": [],
   "source": [
    "df = pd.read_fwf(\"salary.txt\", header=None, \n",
    "                 names=[\"Sex\", \"Rank\", \"Year\", \"Degree\", \"YSdeg\", \"Salary\"])\n",
    "men = df[df['Sex'] == 0]\n",
    "women = df[df['Sex'] == 1]\n",
    "#df.sort(columns=['Salary'], ascending=False).tail(12)"
   ]
  },
  {
   "cell_type": "code",
   "execution_count": 13,
   "metadata": {
    "collapsed": false
   },
   "outputs": [],
   "source": [
    "combos = [list(itertools.combinations(df.columns[0:5], sz)) for sz in range(1, 6)]\n",
    "combos = list(itertools.chain.from_iterable(combos))\n",
    "combo_combo = [list(x) for x in combos]\n",
    "regrs = [linear_model.LinearRegression() \\\n",
    "         .fit(np.array(df[cols]), np.array(df[['Salary']]))\n",
    "         for cols in combo_combo]\n",
    "#regrs[0].score(np.array(df[combo_combo[0]]), outp)\n",
    "score_sort = sorted(list(zip(combo_combo, regrs)), key=lambda x: \n",
    "                    x[1].score(np.array(df[x[0]]), \n",
    "                               np.array(df[['Salary']])), \n",
    "                    reverse=True)"
   ]
  },
  {
   "cell_type": "code",
   "execution_count": 14,
   "metadata": {
    "collapsed": false,
    "scrolled": true
   },
   "outputs": [],
   "source": [
    "def graph_mw(col):\n",
    "    inm = np.array(men[[col]])\n",
    "    inw = np.array(women[[col]])\n",
    "    outm = np.array(men[['Salary']])\n",
    "    outw = np.array(women[['Salary']])\n",
    "    regrmy = linear_model.LinearRegression()\n",
    "    regrwy = linear_model.LinearRegression()\n",
    "    regrmy.fit(inm, outm)\n",
    "    regrwy.fit(inw, outw)\n",
    "    print(\"Men's - slope =\",regrmy.coef_, \"intercept =\",\n",
    "          regrmy.intercept_, 'score =', regrmy.score(inm, outm))\n",
    "    print(\"Women's - slope =\", regrwy.coef_, \"intercept =\",\n",
    "          regrwy.intercept_, 'score =', regrmy.score(inw, outw))\n",
    "    plt.scatter(inm, outm, c='b')\n",
    "    plt.scatter(inw, outw, c='g')\n",
    "    plt.plot(inm, regrmy.predict(inm))\n",
    "    plt.plot(inw, regrwy.predict(inw))\n",
    "    plt.xlabel(col)\n",
    "    plt.ylabel('Salary')\n",
    "    plt.title(col + ' vs. Salary')\n",
    "    plt.legend(['Men', 'Women'])\n",
    "    plt.show()"
   ]
  },
  {
   "cell_type": "markdown",
   "metadata": {},
   "source": [
    "##### Find the linear regression equation for this data using columns 1-5 to column 6."
   ]
  },
  {
   "cell_type": "code",
   "execution_count": 15,
   "metadata": {
    "collapsed": false
   },
   "outputs": [
    {
     "name": "stdout",
     "output_type": "stream",
     "text": [
      "Salary ≈ [[ 5952.77890467]] * ['Rank'] + [ 11663.14300203]\n",
      "Salary ≈ [[ 752.79775742]] * ['Year'] + [ 18166.14754547]\n",
      "Salary ≈ [[ 390.64512637]] * ['YSdeg'] + [ 17502.25738659]\n",
      "Salary ≈ [[-3339.64661654]] * ['Sex'] + [ 24696.78947368]\n",
      "Salary ≈ [[-858.86928105]] * ['Degree'] + [ 24359.22222222]\n"
     ]
    }
   ],
   "source": [
    "for reg in score_sort:\n",
    "    if len(reg[0]) == 1:\n",
    "        print('Salary \\u2248', reg[1].coef_, '*', reg[0], '+', reg[1].intercept_)"
   ]
  },
  {
   "cell_type": "markdown",
   "metadata": {},
   "source": [
    "##### Find the selection of columns with the best $R^2$ score."
   ]
  },
  {
   "cell_type": "code",
   "execution_count": 16,
   "metadata": {
    "collapsed": false
   },
   "outputs": [
    {
     "name": "stdout",
     "output_type": "stream",
     "text": [
      "0.8547 ['Sex', 'Rank', 'Year', 'Degree', 'YSdeg']\n"
     ]
    }
   ],
   "source": [
    "for x in score_sort[:1]:\n",
    "    print(str(round(x[1].score(np.array(df[x[0]]), np.array(df[['Salary']])), 4)).ljust(6, '0'), x[0])"
   ]
  },
  {
   "cell_type": "markdown",
   "metadata": {},
   "source": [
    "##### Report whether sex is a factor in salary. Support your argument with graph(s) if appropriate."
   ]
  },
  {
   "cell_type": "code",
   "execution_count": 17,
   "metadata": {
    "collapsed": false
   },
   "outputs": [
    {
     "name": "stdout",
     "output_type": "stream",
     "text": [
      "Men's - slope = [[ 6010.63655462]] intercept = [ 11726.46848739] score = 0.767269427883\n",
      "Women's - slope = [[ 5527.10526316]] intercept = [ 11882.10526316] score = 0.656085997201\n"
     ]
    },
    {
     "data": {
      "image/png": "[encoded data removed]",
      "text/plain": [
       "<matplotlib.figure.Figure at 0x10df75d68>"
      ]
     },
     "metadata": {},
     "output_type": "display_data"
    }
   ],
   "source": [
    "graph_mw('Rank')"
   ]
  },
  {
   "cell_type": "code",
   "execution_count": 18,
   "metadata": {
    "collapsed": false
   },
   "outputs": [
    {
     "name": "stdout",
     "output_type": "stream",
     "text": [
      "Men's - slope = [[ 741.02357232]] intercept = [ 18222.58352606] score = 0.550855421296\n",
      "Women's - slope = [[ 910.07704004]] intercept = [ 17651.82919412] score = 0.228665689189\n"
     ]
    },
    {
     "data": {
      "image/png": "[encoded data removed]",
      "text/plain": [
       "<matplotlib.figure.Figure at 0x10de942e8>"
      ]
     },
     "metadata": {},
     "output_type": "display_data"
    }
   ],
   "source": [
    "graph_mw('Year')"
   ]
  },
  {
   "cell_type": "code",
   "execution_count": 19,
   "metadata": {
    "collapsed": false
   },
   "outputs": [
    {
     "name": "stdout",
     "output_type": "stream",
     "text": [
      "Men's - slope = [[-347.30952381]] intercept = [ 24916.14285714] score = 0.000904154548697\n",
      "Women's - slope = [[-1474.]] intercept = [ 22410.] score = -0.306692238922\n"
     ]
    },
    {
     "data": {
      "image/png": "[encoded data removed]",
      "text/plain": [
       "<matplotlib.figure.Figure at 0x10dfa6080>"
      ]
     },
     "metadata": {},
     "output_type": "display_data"
    }
   ],
   "source": [
    "graph_mw('Degree')"
   ]
  },
  {
   "cell_type": "code",
   "execution_count": 20,
   "metadata": {
    "collapsed": false
   },
   "outputs": [
    {
     "name": "stdout",
     "output_type": "stream",
     "text": [
      "Men's - slope = [[ 419.79541266]] intercept = [ 17703.88167857] score = 0.492779236906\n",
      "Women's - slope = [[ 315.85471651]] intercept = [ 16732.12736544] score = 0.182724499716\n"
     ]
    },
    {
     "data": {
      "image/png": "[encoded data removed]",
      "text/plain": [
       "<matplotlib.figure.Figure at 0x10e224c18>"
      ]
     },
     "metadata": {},
     "output_type": "display_data"
    }
   ],
   "source": [
    "graph_mw('YSdeg')"
   ]
  },
  {
   "cell_type": "markdown",
   "metadata": {},
   "source": [
    "Based on these graphs, the green lines are lower than the blue lines in each correlation aside from Years, which would indicate that within Rank, Degree, and Years Since Degree, Men have a financial advantage.  By itself, sex seems to even out, as women appear to earn more for each year of employment than men.  That said, even though the top paid professor is a woman, it is interesting to note that 25% of tenured professors make a salary between the top two paid tenured women."
   ]
  }
 ],
 "metadata": {
  "kernelspec": {
   "display_name": "Python 3",
   "language": "python",
   "name": "python3"
  },
  "language_info": {
   "codemirror_mode": {
    "name": "ipython",
    "version": 3
   },
   "file_extension": ".py",
   "mimetype": "text/x-python",
   "name": "python",
   "nbconvert_exporter": "python",
   "pygments_lexer": "ipython3",
   "version": "3.4.3"
  }
 },
 "nbformat": 4,
 "nbformat_minor": 0
}
